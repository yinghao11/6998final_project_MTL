{
 "cells": [
  {
   "cell_type": "code",
   "execution_count": 5,
   "metadata": {},
   "outputs": [],
   "source": [
    "import os\n",
    "import pandas as pd\n",
    "import numpy as np\n",
    "import tensorflow as tf\n",
    "from tensorflow.keras import backend as K\n",
    "from tensorflow.keras import metrics\n",
    "from tensorflow.keras.optimizers import Adam\n",
    "from tensorflow.keras.initializers import VarianceScaling\n",
    "from tensorflow.keras.layers import Input, Dense\n",
    "from tensorflow.keras.models import Model\n",
    "import numpy as np\n",
    "from sklearn.metrics import roc_curve,auc,precision_recall_curve,roc_curve\n",
    "import matplotlib.pyplot as plt\n",
    "from sklearn.model_selection import train_test_split\n",
    "import collections\n",
    "\n",
    "\n",
    "import matplotlib.pyplot as plt\n",
    "from mmoe import MMoE"
   ]
  },
  {
   "cell_type": "code",
   "execution_count": 6,
   "metadata": {},
   "outputs": [],
   "source": [
    "def custom_loss(y_true, y_pred):\n",
    "    y_true=tf.cast(y_true,tf.float32)\n",
    "    not_ignore_case=(y_true[:,0]!=-1)\n",
    "\n",
    "    y_true=y_true[not_ignore_case]\n",
    "    y_pred=y_pred[not_ignore_case]\n",
    "    diff = K.square(y_pred- y_true)  #squared difference\n",
    "    loss = K.mean(diff, axis=-1) #mean over last dimension\n",
    "    return loss\n"
   ]
  },
  {
   "cell_type": "code",
   "execution_count": 7,
   "metadata": {},
   "outputs": [],
   "source": [
    "def filter_label(df,labels, default_value=-1):\n",
    "    for label in labels:\n",
    "        if label not in df.columns:\n",
    "            df[label]=default_value\n",
    "    return df\n",
    "    \n",
    "def get_data(folderpath, labels):\n",
    "    # build synthetic training data\n",
    "    dataset_filenemes=os.listdir(folderpath)\n",
    "    dataset_filenemes=[f for f in dataset_filenemes if os.path.isfile(os.path.join(folderpath,f))]\n",
    "    print(f\"Datasets used : {list(dataset_filenemes)}\")\n",
    "    \n",
    "    data=pd.read_csv(os.path.join(folderpath,dataset_filenemes[0]))\n",
    "    data=filter_label(data, labels)\n",
    "    data=data.fillna(0)\n",
    "    all_features=list(set(data.columns)-set(labels))\n",
    "    print(f\"All features we used: {all_features if len(all_features)<=10 else all_features[:10]} (at most 10)\")\n",
    "    for i,file_name in enumerate(dataset_filenemes[1:]):\n",
    "        _data=pd.read_csv(os.path.join(folderpath,file_name))\n",
    "        _data=_data.fillna(0)\n",
    "        _data=filter_label(_data, all_features,default_value=0)\n",
    "        _data=filter_label(_data, labels)\n",
    "        _data=_data[all_features+labels]\n",
    "\n",
    "        data=data.append(_data)\n",
    "\n",
    "    data=data.sample(frac=1)\n",
    "    return data\n"
   ]
  },
  {
   "cell_type": "code",
   "execution_count": 8,
   "metadata": {},
   "outputs": [],
   "source": [
    "def cus_accuracy(y_true, y_pred):\n",
    "    y_true=tf.cast(y_true,tf.float32)\n",
    "    not_ignore_case=(y_true[:,0]!=-1)\n",
    "\n",
    "    y_true=y_true[not_ignore_case]\n",
    "    y_pred=y_pred[not_ignore_case]\n",
    "    \n",
    "    y_pred=K.round(K.clip(y_pred,0,1))\n",
    "    return K.cast(K.equal(y_true, y_pred), K.floatx())"
   ]
  }
 ],
 "metadata": {
  "interpreter": {
   "hash": "d3a16146425ecf2d0401a5ee4aecf20c46b9d054017e48d35b3a6ad9b2e7c6b2"
  },
  "kernelspec": {
   "display_name": "Python 3.7.5 ('e': venv)",
   "language": "python",
   "name": "python3"
  },
  "language_info": {
   "codemirror_mode": {
    "name": "ipython",
    "version": 3
   },
   "file_extension": ".py",
   "mimetype": "text/x-python",
   "name": "python",
   "nbconvert_exporter": "python",
   "pygments_lexer": "ipython3",
   "version": "3.7.5"
  },
  "orig_nbformat": 4
 },
 "nbformat": 4,
 "nbformat_minor": 2
}
