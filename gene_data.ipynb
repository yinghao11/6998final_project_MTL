{
 "cells": [
  {
   "cell_type": "code",
   "execution_count": 1,
   "metadata": {},
   "outputs": [],
   "source": [
    "import pandas as pd\n",
    "import numpy as np\n",
    "import shutil\n",
    "import os\n",
    "\n",
    "\n",
    "working_root=\"/mnt/w/6998/Project/data\"\n"
   ]
  },
  {
   "cell_type": "code",
   "execution_count": 51,
   "metadata": {},
   "outputs": [],
   "source": [
    "def clean_folder():\n",
    "    try:\n",
    "        shutil.rmtree(working_root)\n",
    "    except OSError as e:\n",
    "        print(\"Error: %s : %s\" % (working_root, e.strerror))\n",
    "\n",
    "    os.mkdir(working_root)\n",
    "    os.mkdir(working_root+\"-backup\")"
   ]
  },
  {
   "cell_type": "code",
   "execution_count": 53,
   "metadata": {},
   "outputs": [
    {
     "name": "stdout",
     "output_type": "stream",
     "text": [
      "Error: /mnt/w/6998/Project/data : No such file or directory\n"
     ]
    }
   ],
   "source": [
    "clean_folder()"
   ]
  },
  {
   "cell_type": "code",
   "execution_count": 2,
   "metadata": {},
   "outputs": [],
   "source": [
    "sample_num=10000\n",
    "feature_num=10\n",
    "class_num=2\n",
    "dataset_num=2\n",
    "\n",
    "for class_id in range(dataset_num):\n",
    "    trainX=np.random.rand(sample_num,feature_num)\n",
    "    for i in range(feature_num):\n",
    "        scale=np.random.uniform(low=0,high=100)\n",
    "        trainX[:,i]=trainX[:,i]*scale\n",
    "    # trainY=np.random.randint(class_num,size=sample_num).reshape((-1,1))\n",
    "    y=np.mean(trainX,axis=1)/100+0.7+0.05*class_id\n",
    "\n",
    "    trainY=np.floor(y).reshape(-1,1)\n",
    "\n",
    "    train_data=np.hstack((trainX,trainY))\n",
    "    df=pd.DataFrame(train_data)\n",
    "    col_names=[f\"feature_{i+1}\" for i in range(feature_num)]+[f\"label{class_id}\"]\n",
    "    df.set_axis(col_names, axis=1,inplace=True)\n",
    "    df.to_csv(working_root+f\"-backup/date_{class_id}.csv\", index=False)"
   ]
  },
  {
   "cell_type": "code",
   "execution_count": 3,
   "metadata": {},
   "outputs": [],
   "source": [
    "click_log=pd.read_pickle('/mnt/w/6998/Project/Tencent2020_Rank1st/data/click.pkl')"
   ]
  },
  {
   "cell_type": "code",
   "execution_count": 4,
   "metadata": {},
   "outputs": [],
   "source": [
    "click_log_drop_na_minus1 = click_log.loc[(click_log['age'] != -1) & (click_log['gender'] != -1) ] \n",
    "sample_log=click_log_drop_na_minus1.sample(n=450000)\n",
    "\n",
    "click_log_drop_na_minus1_rev = click_log.loc[(click_log['age'] == -1) | (click_log['gender'] == -1) ] \n",
    "sample_log2=click_log_drop_na_minus1_rev.sample(n=50000)\n",
    "\n",
    "sample_df=sample_log.append(sample_log2)"
   ]
  },
  {
   "cell_type": "code",
   "execution_count": 5,
   "metadata": {},
   "outputs": [
    {
     "name": "stdout",
     "output_type": "stream",
     "text": [
      "['age_0', 'age_1', 'age_2', 'age_3', 'age_4', 'age_5', 'age_6', 'age_7', 'age_8', 'age_9', 'gender_0', 'gender_1']\n"
     ]
    }
   ],
   "source": [
    "\n",
    "sample_df = sample_df.sample(frac=1).reset_index(drop=True)\n",
    "filter_cols=list(filter(lambda cn: cn.startswith('age_') or cn.startswith('gender_'), sample_df.columns ))\n",
    "print(filter_cols)\n",
    "sample_df=sample_df.drop(filter_cols, axis = 1)\n",
    "\n",
    "sample_df.loc[sample_df[\"age\"]<5,\"age\"]=0\n",
    "sample_df.loc[sample_df[\"age\"]>=5,\"age\"]=1\n",
    "\n",
    "sample_df.to_csv(working_root+\"-backup/click_original.csv\",index=False)"
   ]
  },
  {
   "cell_type": "code",
   "execution_count": null,
   "metadata": {},
   "outputs": [],
   "source": [
    "sample_both=sample_df.iloc[:300000,:]\n",
    "sample_gender=sample_df.iloc[300000:400000,:].drop([\"age\"],axis=1)\n",
    "sample_age=sample_df.iloc[400000:,:].drop([\"gender\"],axis=1)\n",
    "sample_both.to_csv(working_root+\"-backup/click_300k_both.csv\",index=False)\n",
    "sample_gender.to_csv(working_root+\"-backup/click_100k_gender.csv\",index=False)\n",
    "sample_age.to_csv(working_root+\"-backup/click_100k_age.csv\",index=False)"
   ]
  },
  {
   "cell_type": "markdown",
   "metadata": {},
   "source": [
    "Another dataset"
   ]
  },
  {
   "cell_type": "code",
   "execution_count": 73,
   "metadata": {},
   "outputs": [
    {
     "name": "stdout",
     "output_type": "stream",
     "text": [
      "        age  wage_per_hour  capital_gains  capital_losses  stock_dividends  \\\n",
      "0        73              0              0               0                0   \n",
      "1        58              0              0               0                0   \n",
      "2        18              0              0               0                0   \n",
      "3         9              0              0               0                0   \n",
      "4        10              0              0               0                0   \n",
      "...     ...            ...            ...             ...              ...   \n",
      "199518   87              0              0               0                0   \n",
      "199519   65              0           6418               0                9   \n",
      "199520   47              0              0               0              157   \n",
      "199521   16              0              0               0                0   \n",
      "199522   32              0              0               0                0   \n",
      "\n",
      "        instance_weight  num_emp  own_or_self  vet_benefits  weeks_worked  \\\n",
      "0               1700.09        0            0             2             0   \n",
      "1               1053.55        1            0             2            52   \n",
      "2                991.95        0            0             2             0   \n",
      "3               1758.14        0            0             0             0   \n",
      "4               1069.16        0            0             0             0   \n",
      "...                 ...      ...          ...           ...           ...   \n",
      "199518           955.27        0            0             2             0   \n",
      "199519           687.19        1            0             2            52   \n",
      "199520          1923.03        6            0             2            52   \n",
      "199521          4664.87        0            0             2             0   \n",
      "199522          1830.11        6            0             2            52   \n",
      "\n",
      "        ...  country_self_ Vietnam  country_self_ Yugoslavia  \\\n",
      "0       ...                      0                         0   \n",
      "1       ...                      0                         0   \n",
      "2       ...                      1                         0   \n",
      "3       ...                      0                         0   \n",
      "4       ...                      0                         0   \n",
      "...     ...                    ...                       ...   \n",
      "199518  ...                      0                         0   \n",
      "199519  ...                      0                         0   \n",
      "199520  ...                      0                         0   \n",
      "199521  ...                      0                         0   \n",
      "199522  ...                      0                         0   \n",
      "\n",
      "        citizenship_ Foreign born- Not a citizen of U S   \\\n",
      "0                                                      0   \n",
      "1                                                      0   \n",
      "2                                                      1   \n",
      "3                                                      0   \n",
      "4                                                      0   \n",
      "...                                                  ...   \n",
      "199518                                                 0   \n",
      "199519                                                 0   \n",
      "199520                                                 0   \n",
      "199521                                                 0   \n",
      "199522                                                 1   \n",
      "\n",
      "        citizenship_ Foreign born- U S citizen by naturalization  \\\n",
      "0                                                       0          \n",
      "1                                                       0          \n",
      "2                                                       0          \n",
      "3                                                       0          \n",
      "4                                                       0          \n",
      "...                                                   ...          \n",
      "199518                                                  0          \n",
      "199519                                                  0          \n",
      "199520                                                  1          \n",
      "199521                                                  0          \n",
      "199522                                                  0          \n",
      "\n",
      "        citizenship_ Native- Born abroad of American Parent(s)  \\\n",
      "0                                                       0        \n",
      "1                                                       0        \n",
      "2                                                       0        \n",
      "3                                                       0        \n",
      "4                                                       0        \n",
      "...                                                   ...        \n",
      "199518                                                  0        \n",
      "199519                                                  0        \n",
      "199520                                                  0        \n",
      "199521                                                  0        \n",
      "199522                                                  0        \n",
      "\n",
      "        citizenship_ Native- Born in Puerto Rico or U S Outlying  \\\n",
      "0                                                       0          \n",
      "1                                                       0          \n",
      "2                                                       0          \n",
      "3                                                       0          \n",
      "4                                                       0          \n",
      "...                                                   ...          \n",
      "199518                                                  0          \n",
      "199519                                                  0          \n",
      "199520                                                  0          \n",
      "199521                                                  0          \n",
      "199522                                                  0          \n",
      "\n",
      "        citizenship_ Native- Born in the United States  vet_question_ No  \\\n",
      "0                                                    1                 0   \n",
      "1                                                    1                 0   \n",
      "2                                                    0                 0   \n",
      "3                                                    1                 0   \n",
      "4                                                    1                 0   \n",
      "...                                                ...               ...   \n",
      "199518                                               1                 0   \n",
      "199519                                               1                 0   \n",
      "199520                                               0                 0   \n",
      "199521                                               1                 0   \n",
      "199522                                               0                 0   \n",
      "\n",
      "        vet_question_ Not in universe  vet_question_ Yes  \n",
      "0                                   1                  0  \n",
      "1                                   1                  0  \n",
      "2                                   1                  0  \n",
      "3                                   1                  0  \n",
      "4                                   1                  0  \n",
      "...                               ...                ...  \n",
      "199518                              1                  0  \n",
      "199519                              1                  0  \n",
      "199520                              1                  0  \n",
      "199521                              1                  0  \n",
      "199522                              1                  0  \n",
      "\n",
      "[199523 rows x 499 columns]\n"
     ]
    }
   ],
   "source": [
    "\n",
    "column_names = ['age', 'class_worker', 'det_ind_code', 'det_occ_code', 'education', 'wage_per_hour', 'hs_college',\n",
    "                    'marital_stat', 'major_ind_code', 'major_occ_code', 'race', 'hisp_origin', 'sex', 'union_member',\n",
    "                    'unemp_reason', 'full_or_part_emp', 'capital_gains', 'capital_losses', 'stock_dividends',\n",
    "                    'tax_filer_stat', 'region_prev_res', 'state_prev_res', 'det_hh_fam_stat', 'det_hh_summ',\n",
    "                    'instance_weight', 'mig_chg_msa', 'mig_chg_reg', 'mig_move_reg', 'mig_same', 'mig_prev_sunbelt',\n",
    "                    'num_emp', 'fam_under_18', 'country_father', 'country_mother', 'country_self', 'citizenship',\n",
    "                    'own_or_self', 'vet_question', 'vet_benefits', 'weeks_worked', 'year', 'income_50k']\n",
    "\n",
    "# Load the dataset in Pandas\n",
    "train_df = pd.read_csv(\n",
    "    working_root+\"-backup/census-income.data.gz\",\n",
    "    delimiter=',',\n",
    "    header=None,\n",
    "    index_col=None,\n",
    "    names=column_names\n",
    ")\n",
    "\n",
    "train_df.loc[train_df[\"income_50k\"]!=\" 50000+.\",\"income_50k\"]=0\n",
    "train_df.loc[train_df[\"income_50k\"]==\" 50000+.\",\"income_50k\"]=1\n",
    "\n",
    "train_df.loc[train_df[\"marital_stat\"]!=\" Never married\",\"marital_stat\"]=1\n",
    "train_df.loc[train_df[\"marital_stat\"]==\" Never married\",\"marital_stat\"]=0\n",
    "\n",
    "label_columns = ['income_50k', 'marital_stat']\n",
    "# One-hot encoding categorical columns\n",
    "categorical_columns = ['class_worker', 'det_ind_code', 'det_occ_code', 'education', 'hs_college', 'major_ind_code',\n",
    "                        'major_occ_code', 'race', 'hisp_origin', 'sex', 'union_member', 'unemp_reason',\n",
    "                        'full_or_part_emp', 'tax_filer_stat', 'region_prev_res', 'state_prev_res', 'det_hh_fam_stat',\n",
    "                        'det_hh_summ', 'mig_chg_msa', 'mig_chg_reg', 'mig_move_reg', 'mig_same', 'mig_prev_sunbelt',\n",
    "                        'fam_under_18', 'country_father', 'country_mother', 'country_self', 'citizenship',\n",
    "                        'vet_question']\n",
    "transformed_train = pd.get_dummies(train_df, columns=categorical_columns)\n",
    "\n",
    "    \n",
    "print(transformed_train)    \n",
    "    \n",
    "other_df = pd.read_csv(\n",
    "    working_root+'-backup/census-income.test.gz',\n",
    "    delimiter=',',\n",
    "    header=None,\n",
    "    index_col=None,\n",
    "    names=column_names\n",
    ")\n",
    "\n",
    "# First group of tasks according to the paper\n",
    "label_columns = ['income_50k', 'marital_stat']"
   ]
  },
  {
   "cell_type": "code",
   "execution_count": 72,
   "metadata": {},
   "outputs": [],
   "source": [
    "train_df.to_csv(working_root+\"-backup/census-income.csv\",index=False)"
   ]
  },
  {
   "cell_type": "code",
   "execution_count": 74,
   "metadata": {},
   "outputs": [],
   "source": [
    "transformed_train.to_csv(working_root+\"-backup/census-incom22e.csv\",index=False)"
   ]
  }
 ],
 "metadata": {
  "interpreter": {
   "hash": "d3a16146425ecf2d0401a5ee4aecf20c46b9d054017e48d35b3a6ad9b2e7c6b2"
  },
  "kernelspec": {
   "display_name": "Python 3.7.5 ('e': venv)",
   "language": "python",
   "name": "python3"
  },
  "language_info": {
   "codemirror_mode": {
    "name": "ipython",
    "version": 3
   },
   "file_extension": ".py",
   "mimetype": "text/x-python",
   "name": "python",
   "nbconvert_exporter": "python",
   "pygments_lexer": "ipython3",
   "version": "3.7.5"
  },
  "orig_nbformat": 4
 },
 "nbformat": 4,
 "nbformat_minor": 2
}
